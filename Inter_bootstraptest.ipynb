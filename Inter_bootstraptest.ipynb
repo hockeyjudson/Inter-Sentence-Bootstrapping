{
 "cells": [
  {
   "cell_type": "code",
   "execution_count": 19,
   "metadata": {},
   "outputs": [],
   "source": [
    "st=['The applicant submitted that until an order of the court was relevantly made, if otherwise permissible, declaring the CDS Collective Agreement to be void under s 409(a) , it was taken to be in force.\\n',\n",
    " '12 In view of my conclusions, the order of the Court will be that the application is dismissed with costs and the name of the first respondent will be changed to the Minister for Immigration and Citizenship.\\n']    "
   ]
  },
  {
   "cell_type": "code",
   "execution_count": 2,
   "metadata": {},
   "outputs": [],
   "source": [
    "import inter_sentence_bootstrap as ins"
   ]
  },
  {
   "cell_type": "code",
   "execution_count": 6,
   "metadata": {},
   "outputs": [
    {
     "name": "stdout",
     "output_type": "stream",
     "text": [
      "{'nsubj': [['NN', 'VBD', 'NN', 'NN', 'RB', 'VBN', 'RB']]}\n",
      "{'nsubj': [['CD', 'NN', 'NNS', 'NN', 'NNP', 'NN', 'VBN']]}\n"
     ]
    }
   ],
   "source": [
    "for i in st:\n",
    "    print(ins.flex_window_patEx(i,[\"nsubj\",\"dobj\"],6,True))"
   ]
  },
  {
   "cell_type": "code",
   "execution_count": 7,
   "metadata": {
    "collapsed": true
   },
   "outputs": [
    {
     "data": {
      "text/plain": [
       "['The applicant submitted that until an order of the court was relevantly made, if otherwise permissible, declaring the CDS Collective Agreement to be void under s 409(a) , it was taken to be in force.\\n',\n",
       " '12 In view of my conclusions, the order of the Court will be that the application is dismissed with costs and the name of the first respondent will be changed to the Minister for Immigration and Citizenship.\\n',\n",
       " 'In the event of liberty to apply under Order 3 not being availed of in the time permitted, the Court will make no order for compensation.\\n',\n",
       " 'I certify that the preceding eighteen (18) numbered paragraphs are a true copy of the Reasons for Judgment herein of the Honourable Justice Marshall.\\n',\n",
       " '\\'I can very well see that on the particular facts of many cases --- perhaps most cases --- the court might not consider it \"just and convenient\" to order the cross-examination of a defendant who has filed an affidavit in purported compliance with a Mareva order, in a case where the plaintiff has not yet seen fit to issue a motion for contempt and is not seeking an order for the swearing of a second affidavit by the defendant concerned.\\n',\n",
       " 'Lord Justice Slade made those remarks in the course of overruling the decision of Scott J at first instance, which decision had been to the effect that a court did not have the power under s 37 of the Supreme Court Act 1981 (UK) to make an order requiring cross-examination ancillary to compliance with a Mareva order, in the absence of circumstances whereby a justiciable issue is before the Court in respect of which the evidence of the deponent is relevant to the resolution thereof, for instance where the deponent of the disclosure affidavit was the subject of a contempt motion.\\n',\n",
       " \"'The tribunal affirms the decision under review in relation to the inclusion of the sum of $1,228,500 in the applicant's assessable income for the year ended 30 June 1988, but in relation to penalty remits the matter to the respondent with the direction that the assessment for that income year be amended by remitting additional tax in full.\\n\",\n",
       " 'In that sense, the Tribunal exercised the discretion for the purpose of reviewing the objection decision and any argument that it did not must be rejected.\\n',\n",
       " '24 For the foregoing reasons, the appeal must be dismissed with costs.\\n',\n",
       " 'In this case, there was no obligation upon the R R T to provide the Applicant with a transcript of the information provided to the R R T by George Ddungu.\\n',\n",
       " 'A consideration of the letter dated 27 February 2004 [32] demonstrates that the R R T conveyed the information the Tribunal then considered would be the reason or a part of the reason for affirming the decision under review, to the Applicant in clear and precise terms.\\n',\n",
       " 'Plainly enough, the Applicant understood the content of the letter and responded comprehensively [33].\\n',\n",
       " '102 Accordingly, the application must be dismissed.\\n',\n",
       " \"18 It is preferable to allow sufficient time to elapse to permit the parties' agreement to take effect.\\n\",\n",
       " 'I will place the onus on the Union to re-agitate this issue within 28 days of these reasons for judgment, failing which there will be no order made under s 298U(c) concerning compensation and the file will be closed.\\n']"
      ]
     },
     "execution_count": 7,
     "metadata": {},
     "output_type": "execute_result"
    }
   ],
   "source": [
    "f=open(\"/home/judson/Desktop/sentenceSeg/SecondPhase/SeedLabel/decision.txt\").readlines()\n",
    "f"
   ]
  },
  {
   "cell_type": "code",
   "execution_count": 9,
   "metadata": {
    "collapsed": true
   },
   "outputs": [
    {
     "name": "stdout",
     "output_type": "stream",
     "text": [
      "{'nsubj': [['NN', 'VBD', 'NN', 'NN', 'RB', 'VBN', 'RB']], 'pobj': [['NN', 'VBD', 'NN', 'NN', 'RB', 'VBN', 'RB'], ['NNP', 'NNP', 'JJ', 'CD', 'VBN', 'NN', '']]}\n",
      "{'nsubj': [['CD', 'NN', 'NNS', 'NN', 'NNP', 'NN', 'VBN']], 'pobj': [['CD', 'NN', 'NNS', 'NN', 'NNP', 'NN', 'VBN'], ['CD', 'NN', 'NNS', 'NN', 'NNP', 'NN', 'VBN'], ['NN', 'NNS', 'NN', 'NNP', 'NN', 'VBN', 'NNS'], ['NNP', 'NN', 'VBN', 'NNS', 'NN', 'JJ', 'NN'], ['NNS', 'NN', 'JJ', 'NN', 'VBN', 'NNP', 'NNP'], ['JJ', 'NN', 'VBN', 'NNP', 'NNP', 'NNP', ''], ['JJ', 'NN', 'VBN', 'NNP', 'NNP', 'NNP', '']]}\n",
      "{'nsubj': [['VBN', 'NN', 'VBN', 'NNP', 'VB', 'NN', 'NN']], 'dobj': [['NN', 'VBN', 'NNP', 'VB', 'NN', 'NN', '']], 'pobj': [['NN', 'NN', 'VB', 'NN', 'CD', 'VBN', 'NN'], ['NN', 'NN', 'VB', 'NN', 'CD', 'VBN', 'NN'], ['NN', 'NN', 'VB', 'NN', 'CD', 'VBN', 'NN'], ['NN', 'CD', 'VBN', 'NN', 'VBN', 'NNP', 'VB'], ['NN', 'VBN', 'NNP', 'VB', 'NN', 'NN', '']]}\n",
      "{'nsubj': [['CD', 'CD', 'VBD', 'NNS', 'JJ', 'NN', 'NNPS']], 'pobj': [['NNS', 'JJ', 'NN', 'NNPS', 'NNP', 'NN', 'JJ'], ['NN', 'NNPS', 'NNP', 'NN', 'JJ', 'NNP', 'NNP'], ['NNPS', 'NNP', 'NN', 'JJ', 'NNP', 'NNP', '']]}\n",
      "{'nsubj': [['NNS', 'RB', 'NNS', 'NN', 'MD', 'VB', 'JJ'], ['NNP', 'NN', 'NN', 'NN', 'RB', 'VBN', 'JJ']], 'dobj': [['JJ', 'VB', 'NN', 'NN', 'NN', 'VBN', 'NN'], ['NN', 'NN', 'VBN', 'NN', 'VBN', 'NN', 'NNP'], ['VBN', 'JJ', 'VB', 'NN', 'NN', 'VBG', 'NN'], ['NN', 'NN', 'VBG', 'NN', 'NN', 'JJ', 'NN']], 'pobj': [['RB', 'VB', 'JJ', 'NNS', 'JJ', 'NNS', 'RB'], ['JJ', 'NNS', 'JJ', 'NNS', 'RB', 'NNS', 'NN'], ['JJ', 'NNS', 'RB', 'NNS', 'NN', 'MD', 'VB'], ['VB', 'NN', 'NN', 'NN', 'VBN', 'NN', 'VBN'], ['VBN', 'NN', 'VBN', 'NN', 'NNP', 'NN', 'NN'], ['VBN', 'NN', 'NNP', 'NN', 'NN', 'NN', 'RB'], ['NN', 'NNP', 'NN', 'NN', 'NN', 'RB', 'VBN'], ['JJ', 'VB', 'NN', 'NN', 'VBG', 'NN', 'NN'], ['NN', 'VBG', 'NN', 'NN', 'JJ', 'NN', 'NN'], ['NN', 'NN', 'JJ', 'NN', 'NN', 'VBN', ''], ['NN', 'NN', 'JJ', 'NN', 'NN', 'VBN', '']]}\n",
      "{'nsubj': [['NNP', 'NNP', 'NNP', 'VBD', 'NNS', 'NN', 'VBG'], ['NNP', 'JJ', 'NN', 'NN', 'NN', 'NN', 'NN'], ['NN', 'NN', 'NN', 'NN', 'NN', 'CD', 'NNP'], ['NNS', 'WRB', 'JJ', 'NN', 'NNP', 'NN', 'NN'], ['NN', 'NNP', 'NN', 'NN', 'NN', 'JJ', 'NN'], ['NN', 'RB', 'NN', 'NN', 'NN', 'NN', 'NN']], 'dobj': [['NNP', 'NNP', 'VBD', 'NNS', 'NN', 'VBG', 'NN'], ['NNS', 'NN', 'VBG', 'NN', 'NNP', 'NNP', 'JJ'], ['NN', 'NN', 'NN', 'NN', 'CD', 'NNP', 'NNP'], ['CD', 'NNP', 'VB', 'NN', 'VBG', 'NN', 'NN'], ['NN', 'VBG', 'NN', 'NN', 'NN', 'NNP', 'NN']], 'pobj': [['NNP', 'VBD', 'NNS', 'NN', 'VBG', 'NN', 'NNP'], ['VBG', 'NN', 'NNP', 'NNP', 'JJ', 'NN', 'NN'], ['NNP', 'NNP', 'JJ', 'NN', 'NN', 'NN', 'NN'], ['JJ', 'NN', 'NN', 'NN', 'NN', 'NN', 'CD'], ['CD', 'NNP', 'NNP', 'NNP', 'CD', 'NNP', 'VB'], ['NN', 'NN', 'NNP', 'NN', 'NN', 'NNS', 'WRB'], ['NN', 'NNP', 'NN', 'NN', 'NNS', 'WRB', 'JJ'], ['NNP', 'NN', 'NN', 'NNS', 'WRB', 'JJ', 'NN'], ['WRB', 'JJ', 'NN', 'NNP', 'NN', 'NN', 'NN'], ['JJ', 'NN', 'NNP', 'NN', 'NN', 'NN', 'JJ'], ['NNP', 'NN', 'NN', 'NN', 'JJ', 'NN', 'RB'], ['NN', 'NN', 'JJ', 'NN', 'RB', 'NN', 'NN'], ['JJ', 'NN', 'RB', 'NN', 'NN', 'NN', 'NN'], ['NN', 'NN', 'NN', 'NN', 'NN', 'NN', 'NN'], ['NN', 'NN', 'NN', 'NN', 'NN', 'NN', '']]}\n",
      "{'nsubj': [['NN', 'VBZ', 'NN', 'NN', 'NN', 'NN', 'NN']], 'dobj': [['NN', 'VBZ', 'NN', 'NN', 'NN', 'NN', 'NN'], ['NN', 'NN', 'NNS', 'NN', 'NN', 'NN', 'NN'], ['NN', 'VBN', 'VBG', 'JJ', 'NN', 'JJ', '']], 'pobj': [['NN', 'VBZ', 'NN', 'NN', 'NN', 'NN', 'NN'], ['VBZ', 'NN', 'NN', 'NN', 'NN', 'NN', '$'], ['NN', 'NN', 'NN', 'NN', 'NN', '$', 'CD'], ['NN', 'NN', 'NN', 'NN', '$', 'CD', 'NN'], ['NN', 'POS', 'JJ', 'NN', 'NN', 'VBD', 'CD'], ['POS', 'JJ', 'NN', 'NN', 'VBD', 'CD', 'NNP'], ['CD', 'NNP', 'CD', 'NN', 'NN', 'NNS', 'NN'], ['NNP', 'CD', 'NN', 'NN', 'NNS', 'NN', 'NN'], ['NN', 'NNS', 'NN', 'NN', 'NN', 'NN', 'NN'], ['NNS', 'NN', 'NN', 'NN', 'NN', 'NN', 'NN'], ['NN', 'NN', 'NN', 'NN', 'VBN', 'VBG', 'JJ']]}\n",
      "{'nsubj': [['NN', 'NNP', 'VBD', 'NN', 'NN', 'VBG', 'NN']], 'dobj': [['NN', 'NNP', 'VBD', 'NN', 'NN', 'VBG', 'NN'], ['NN', 'VBG', 'NN', 'NN', 'NN', 'MD', 'VBN']], 'pobj': [['NN', 'NNP', 'VBD', 'NN', 'NN', 'VBG', 'NN'], ['NNP', 'VBD', 'NN', 'NN', 'VBG', 'NN', 'NN']]}\n",
      "{'pobj': [['CD', 'NN', 'NNS', 'NN', 'MD', 'VBN', 'NNS'], ['NN', 'NNS', 'NN', 'MD', 'VBN', 'NNS', '']]}\n",
      "{'dobj': [['NN', 'NN', 'VB', 'NN', 'NN', 'NN', 'VBN']], 'pobj': [['NN', 'NN', 'IN', 'NN', 'NN', 'VB', 'NN'], ['NN', 'VB', 'NN', 'NN', 'NN', 'VBN', 'NN'], ['VB', 'NN', 'NN', 'NN', 'VBN', 'NN', 'NN'], ['NN', 'VBN', 'NN', 'NN', 'NNP', 'NNP', '']]}\n",
      "{'nsubj': [['NN', 'NN', 'VBD', 'CD', 'NNP', 'CD', 'CD'], ['NN', 'VBD', 'NN', 'NNP', 'VBD', 'MD', 'NN']], 'dobj': [['NN', 'NN', 'VBD', 'NN', 'NNP', 'VBD', 'MD'], ['NN', 'NN', 'VBG', 'NN', 'NN', 'NNP', 'JJ']], 'pobj': [['NN', 'NN', 'VBD', 'CD', 'NNP', 'CD', 'CD'], ['MD', 'NN', 'NN', 'NN', 'VBG', 'NN', 'NN'], ['NN', 'VBG', 'NN', 'NN', 'NNP', 'JJ', 'JJ'], ['VBG', 'NN', 'NN', 'NNP', 'JJ', 'JJ', 'NNS'], ['NN', 'NN', 'NNP', 'JJ', 'JJ', 'NNS', '']]}\n",
      "{'nsubj': [['RB', 'RB', 'NNP', 'VBD', 'NN', 'NN', 'VBD']], 'dobj': [['RB', 'NNP', 'VBD', 'NN', 'NN', 'VBD', 'RB']], 'pobj': [['NNP', 'VBD', 'NN', 'NN', 'VBD', 'RB', 'CD']]}\n",
      "{}\n",
      "{'dobj': [['JJ', 'VB', 'JJ', 'NN', 'VB', 'VB', 'NNS'], ['VB', 'NNS', 'POS', 'NN', 'VB', 'NN', ''], ['VB', 'NNS', 'POS', 'NN', 'VB', 'NN', '']]}\n",
      "{'dobj': [['VB', 'NN', 'NNP', 'NN', 'IN', 'CD', 'NNS'], ['VBN', 'CD', 'VBG', 'NN', 'NN', 'VBN', '']], 'pobj': [['VB', 'NN', 'NNP', 'NN', 'IN', 'CD', 'NNS'], ['NN', 'IN', 'CD', 'NNS', 'NNS', 'NN', 'VBG'], ['IN', 'CD', 'NNS', 'NNS', 'NN', 'VBG', 'NN'], ['CD', 'NNS', 'NNS', 'NN', 'VBG', 'NN', 'VBN']]}\n"
     ]
    }
   ],
   "source": [
    "for i in f:\n",
    "    print(ins.flex_window_patEx(i,[\"nsubj\",\"dobj\"],6,True))"
   ]
  },
  {
   "cell_type": "code",
   "execution_count": 1,
   "metadata": {},
   "outputs": [
    {
     "data": {
      "text/plain": [
       "{'identify/decision': [[\"Each of the Sharman applicants was one of ten respondents to infringement of copyright proceedings brought by the present respondents ('the Music companies') in respect of the operation of what was described by the parties as the 'Kazaa system' ('the primary proceedings').\",\n",
       "   'Wilcox J made orders ancillary to the Mareva orders on 22 March 2005 requiring each of the Sharman applicants to disclose on affidavit the description and value of all of their assets']],\n",
       " 'decision/decision': [['Wilcox J made orders ancillary to the Mareva orders on 22 March 2005 requiring each of the Sharman applicants to disclose on affidavit the description and value of all of their assets',\n",
       "   '2 Wilcox J delivered judgment on the complex issues of liability arising in the primary proceedings on 5 September 2005 ( Universal Music Australia Pty Ltd v Sharman License Holdings Ltd (2005) 220 ALR 1).'],\n",
       "  [\"The 'cautionary words' of the High Court in Cardile earlier extracted by his Honour at [18] of his reasons below referred to the need for courts to exercise caution in making Mareva orders and to only do so upon a principled basis\",\n",
       "   '28 It was submitted nevertheless on behalf of the Sharman applicants that the premise upon which the application for an order for cross-examination order proceeded here was that Ms Hemming had breached the order requiring her to disclose her assets'],\n",
       "  [\"3 Counsel for ACI submitted that the decision to terminate Mr Williams was made in response to what Mr Gillholme and Mr Minniti understood was Mr Williams' conduct.\",\n",
       "   'Counsel also contended that it was action which Mr Gillholme and Mr Minniti believed they were entitled to take under the Act.'],\n",
       "  ['Pursuant to s 298U(a)(i) of the Workplace Relations Act 1996 (Cth) a penalty of $16',\n",
       "   'Pursuant to s 356(b) of the Act the penalty be paid to the applicant.'],\n",
       "  ['Pursuant to s 356(b) of the Act the penalty be paid to the applicant.',\n",
       "   'The applicant have liberty to apply to the Court within 28 days of the date of this order'],\n",
       "  ['The applicant have liberty to apply to the Court within 28 days of the date of this order',\n",
       "   'In the event of liberty to apply under Order 3 not being availed of in the time permitted'],\n",
       "  ['In the event of liberty to apply under Order 3 not being availed of in the time permitted',\n",
       "   'I certify that the preceding eighteen (18) numbered paragraphs are a true copy of the Reasons for Judgment herein of the Honourable Justice Marshall.']],\n",
       " 'facts/arguments': [['Disclosure affidavits were eventually sworn on behalf of Sharman License and Sharman Networks by Mr Gee on 19 April 2005',\n",
       "   \"Sharman License and Sharman Networks had also unsuccessfully sought an enlargement of time in which to file an application for leave to appeal from Wilcox J's orders of 22 March 2005 (see Sharman License Holdings Ltd v Universal Music Australia Pty Ltd [2005] FCA 802 per Lindgren J\"],\n",
       "  ['The music companies are to have only such access to the seized material as would be normally available on discovery.',\n",
       "   'This shows that there is presently in train an orderly process for the management of the seized material in which the interests of both parties will receive due consideration.'],\n",
       "  ['15 The Sharman applicants submitted that Brilliant Digital was distinguishable from the present circumstances because in the former instance',\n",
       "   'I should interpolate to record that subsequent to reserving judgment on the question of leave to appeal'],\n",
       "  ['So much was said to stand in contrast with the considerable array of evidence provided respectively to Wilcox',\n",
       "   \"In any event the Music companies submitted that the Court's decision in Wong must be read subject to the later reasons of the Full Court in Brilliant Digital\"],\n",
       "  ['20 The primary proceedings in Bayer concerned allegations of an organised system for the sale of counterfeit Baygon insecticide products.',\n",
       "   'As at the time of the hearing before the presiding judge'],\n",
       "  [\"'Star Chamber interrogatory procedure has formed no part of the judicial process in this country for several centuries.\",\n",
       "   'The proper function of a judge in civil litigation is to decide issues between parties.'],\n",
       "  ['• The failure to engage the disciplinary code suggested strongly that Mr Gillholme and Mr Minniti were keen to be rid of Mr Williams; [37]',\n",
       "   \"• That Mr Williams' status as team coordinator did not affect the decision to terminate him; [38]\"]],\n",
       " 'arguments/arguments': [['The Sharman applicants acknowledge that the orders made by Moore J pursuant to that determination were interlocutory in nature.',\n",
       "   \"What had led to the Music companies' application for those ancillary orders were deficiencies in the asset disclosure affidavits provided by the Sharman applicants pursuant to the ancillary orders of Wilcox J made on 22 March 2005.\"],\n",
       "  ['Those obligations were said to be no different in principle to any other interlocutory procedural order of the court',\n",
       "   \"On the question of what constitutes 'substantial injustice' for the purposes of determining an application for leave to appeal\"],\n",
       "  ['9 The Sharman applicants sought to emphasise the existence of practical burdens imposed by the orders made by Moore J on 17 November 2005',\n",
       "   \"They maintained that the requirement to appear for cross-examination was not analogous to the 'routine steps' of swearing an affidavit during the normal course of a trial and entering the witness box to answer questions related to its contents.\"],\n",
       "  ['10 The affidavit filed in support of the application for leave to appeal by Mr Rohan Higgins',\n",
       "   \"'If leave to appeal is not granted then the orders of Moore J will operate and will have to be complied with.\"],\n",
       "  [\"[8] The distinction between interlocutory decisions concerning matters of practice and procedure and those that concern the substantive interests of the parties recognises both the greater likelihood of an incorrect decision as to a substantive right causing substantial injustice and the importance of preserving a judge's power to supervise the orderly preparation of a matter for trial.\",\n",
       "   'In determining whether there has been substantial injustice it is appropriate for the court to take these factors into account.'],\n",
       "  ['In determining whether there has been substantial injustice it is appropriate for the court to take these factors into account.',\n",
       "   'The need to keep a tight rein upon interference with orders at first instance that do not determine substantive rights has even more force today in the context of procedural reforms and active case management undertaken with a view to the early identification of the real issues between the parties and the expeditious and efficient resolution of them.'],\n",
       "  ['I should interpolate to record that subsequent to reserving judgment on the question of leave to appeal',\n",
       "   \"Because a Full Court on appeal is in a position to intervene in relation to the subjection of Ms Hemming to Moore J's orders\"],\n",
       "  [\"Because a Full Court on appeal is in a position to intervene in relation to the subjection of Ms Hemming to Moore J's orders\",\n",
       "   \"16 The Sharman applicants further submitted that the Full Court 'regularly' grants leave to appeal where it can be shown that the exercise of a discretion has miscarried\"],\n",
       "  [\"In any event the Music companies submitted that the Court's decision in Wong must be read subject to the later reasons of the Full Court in Brilliant Digital\",\n",
       "   'There is in my opinion clear force in those submissions of the Music companies.'],\n",
       "  ['There is in my opinion clear force in those submissions of the Music companies.',\n",
       "   \"17 Contrary moreover to the Music companies' primary submissions\"],\n",
       "  [\"17 Contrary moreover to the Music companies' primary submissions\",\n",
       "   'That was said to be because the order to cross-examine a deponent of a disclosure affidavit was an exceptional one'],\n",
       "  [\"'Mr Prescott [for the plaintiff] made clear that the purpose of his proposed cross-examination of the first defendant is a free-ranging one.\",\n",
       "   'He proposes to question him as to the whereabouts of his assets world-wide.'],\n",
       "  ['He proposes to question him as to the whereabouts of his assets world-wide.',\n",
       "   'He proposes to question him as to his knowledge of and part played in transactions in counterfeit Baygon wherever they may have happened.'],\n",
       "  ['21 Senior counsel for the Sharman applicants asserted that nowhere in the reasons for judgment of Moore J is there a finding that the disclosures made by Mr Gee of the assets of the relevant two Sharman companies were incomplete',\n",
       "   'I would first observe that any finding of Moore J on the completeness'],\n",
       "  [\"Senior counsel for the Sharman applicants asserted that the Music companies had not demonstrated that Ms Hemming's assets included what he termed 'the beneficial interest in the Sharman companies' or that the 'loan transaction with TIL was a sham'.\",\n",
       "   'A present concern of the Music companies is indeed with the beneficial ownership of funds.'],\n",
       "  [\"The point is however that his Honour had been able to infer from the surrounding circumstances I have already outlined that there was some force in the Music companies' submission.\",\n",
       "   'But in any event his Honour was of the view that he could permit cross-examination of Ms Hemming on and in relation to those matters because at least doubt existed in relation to that area of enquiry. <arguments>'],\n",
       "  [\"36 In the light of my preceding discussion and analysis I also think that his Honour was right to have concluded in the following terms at [39] in the course of rejecting the Sharman applicants' contention that the subjection of Ms Hemming to cross-examination amounted to an abuse of the Court's process:\",\n",
       "   \"'I accept that the [Music companies] would wish to ascertain who are the real and effective controllers of the Sharman companies.\"],\n",
       "  [\"'I accept that the [Music companies] would wish to ascertain who are the real and effective controllers of the Sharman companies.\",\n",
       "   'I also accept that this may become a matter about which questions might be asked if the orders sought by the applicants are made.'],\n",
       "  ['I also accept that this may become a matter about which questions might be asked if the orders sought by the applicants are made.',\n",
       "   'However if that becomes a legitimate area of cross examination (bearing in mind that any cross examination will be subject to the control of the Court) it will be for a legitimate purpose and not an illegitimate and collateral one.'],\n",
       "  ['However if that becomes a legitimate area of cross examination (bearing in mind that any cross examination will be subject to the control of the Court) it will be for a legitimate purpose and not an illegitimate and collateral one.',\n",
       "   'I do not accept the criticisms of the way the [Music companies] identified and characterised the breaches of the disclosure order.'],\n",
       "  ['12 Given that Mr Williams has been reinstated and that ACI has been admonished for its conduct in the 18 November 2005 judgment',\n",
       "   '13 The protection of industrial freedom of association and']],\n",
       " 'facts/facts': [[\"The Music companies' case presented to Moore J below was that there was in fact no such antecedent loan\",\n",
       "   'Although Moore J declined to make a finding in relation to the issue as to ownership of that fund'],\n",
       "  ['There was no sufficiently detailed or otherwise cogent evidence as to who exercised the substantial or underlying control of decision making of TIL',\n",
       "   \"The state of the evidence as to the control of TIL was itself the subject of disputation before Moore J and senior counsel for the Sharman applicants sought to attribute error to his Honour's judgment for the further reason that he had failed to make a finding as to Ms Hemming's control\"],\n",
       "  ['• The different treatment accorded to other employees who had taken strike action but were not disciplined; [29]',\n",
       "   '• The failure to engage the disciplinary code suggested strongly that Mr Gillholme and Mr Minniti were keen to be rid of Mr Williams; [37]'],\n",
       "  ['Mr Minniti had the opportunity to put a considered recommendation to Mr Gillholme.',\n",
       "   'The recommendation was not a spur of the moment decision.'],\n",
       "  ['The recommendation was not a spur of the moment decision.',\n",
       "   \"6 Mr Williams' failure to hold the meeting at lunchtime should be considered as only a minor mitigating factor.\"],\n",
       "  ['10 I now turn to the other factors relevant to the question of penalty as discussed by Branson J in Construction',\n",
       "   '11 There is no evidence that ACI has previously contravened Pt XA of the Act']],\n",
       " 'decision/ratio': [['Legal principles informing the grant of leave to appeal',\n",
       "   '6 Section 24(1A) of the Federal Court of Australia Act 1976 (Cth) stipulates that an appeal shall not be brought from a judgment of the Court constituted by a single judge'],\n",
       "  ['On that day the Court ordered the reinstatement of Mr Colin Williams and deferred consideration of penalty and compensation pending the receipt of written submissions.',\n",
       "   'These reasons for judgment should be read together with the reasons for judgment published on 18 November 2005.'],\n",
       "  ['7 I further reject the submission that Mr Williams\\' status as team co-ordinator was \"an ameliorating circumstance\".',\n",
       "   'Such a contention is inconsistent with the reasons for judgment of 18 November 2005']],\n",
       " 'ratio/ratio': [['6 Section 24(1A) of the Federal Court of Australia Act 1976 (Cth) stipulates that an appeal shall not be brought from a judgment of the Court constituted by a single judge',\n",
       "   \"Although s 24(1A) does not purport to qualify or limit the Court's discretion (see Décor Corporation Pty Ltd v Dart Industries Inc (1991) 33 FCR 397 at 399 in the joint reasons for judgment of Sheppard\"],\n",
       "  [\"Although s 24(1A) does not purport to qualify or limit the Court's discretion (see Décor Corporation Pty Ltd v Dart Industries Inc (1991) 33 FCR 397 at 399 in the joint reasons for judgment of Sheppard\",\n",
       "   'The rationale for those principles is the public interest in the efficient administration of justice'],\n",
       "  ['Any subsequent challenge to those orders would then be futile and academic.',\n",
       "   'The orders are interlocutory in form but final in the result in relation to the issues raised.'],\n",
       "  ['The orders are interlocutory in form but final in the result in relation to the issues raised.',\n",
       "   \"So much is correct as a general statement as to the consequences of his Honour's orders.\"],\n",
       "  [\"The Sharman applicants relied upon a further passage from the majority's reasons for judgment in Gerlach at [13]\",\n",
       "   \"'The principles governing the grant of leave to appeal against interlocutory orders are well established.\"],\n",
       "  [\"'The principles governing the grant of leave to appeal against interlocutory orders are well established.\",\n",
       "   'If it is plain that wrong principle was applied by the judge considering the application'],\n",
       "  ['The primary judge has now made orders relating to the use of the material seized including its safekeeping by an independent party and',\n",
       "   'Orders have also been made granting preliminary access to the material for the purpose of any application that includes material not falling within the challenged orders.'],\n",
       "  ['[14] In these circumstances we are far from satisfied that substantial injustice would follow from refusing the application for leave to appeal and',\n",
       "   'That being so we do not propose to comment on the correctness or otherwise of the decision of the primary judge.'],\n",
       "  ['The passage from the reasons for judgment of Slade LJ in House of Spring Gardens',\n",
       "   '\\'I can very well see that on the particular facts of many cases --- perhaps most cases --- the court might not consider it \"just and convenient\" to order the cross-examination of a defendant who has filed an affidavit in purported compliance with a Mareva order'],\n",
       "  [\"27 My reading of his Honour's reasons here was that he was far from satisfied with the nature or extent of the purported offshore structures and transactions to the extent apparent from the evidence\",\n",
       "   'Concerns of that nature appear to have persuaded or assisted to persuade the primary judge of the need to order that Ms Hemming submit to cross-examination on her disclosure affidavits.'],\n",
       "  ['These reasons for judgment should be read together with the reasons for judgment published on 18 November 2005.',\n",
       "   '2 The following observations made in the previous judgment are relevant to penalty:'],\n",
       "  ['14 The maximum penalty available to the Court is 300 penalty units or $33',\n",
       "   '15 Having regard to the totality of the above matters I consider that a mid-range penalty is appropriate and set the penalty at $16'],\n",
       "  ['15 Having regard to the totality of the above matters I consider that a mid-range penalty is appropriate and set the penalty at $16',\n",
       "   '16 There is no reason why the penalty should not be paid to the Union; see Finance Section Union v Commonwealth Bank of Australia [2005] FCA 1847 at [71]'],\n",
       "  ['16 There is no reason why the penalty should not be paid to the Union; see Finance Section Union v Commonwealth Bank of Australia [2005] FCA 1847 at [71]',\n",
       "   '17 The Union does not currently press for an order for the payment of compensation to Mr Williams.'],\n",
       "  ['Should the Union wish to re-agitate this issue the Court will convene a directions hearing at 10.',\n",
       "   '15 am on 14 March 2005 to deal with that aspect of this proceeding.']],\n",
       " 'ratio/decision': [['The rationale for those principles is the public interest in the efficient administration of justice',\n",
       "   'One consequence sought to be avoided is the expansion of expensive and delaying pre-trial litigation involved in appeals on issues of practice and procedure'],\n",
       "  ['Such a contention is inconsistent with the reasons for judgment of 18 November 2005',\n",
       "   '8 I agree with the submission of counsel for ACI that the Court should not take into account the breach of the disciplinary code'],\n",
       "  ['15 am on 14 March 2005 to deal with that aspect of this proceeding.',\n",
       "   'Pursuant to s 298U(a)(i) of the Workplace Relations Act 1996 (Cth) a penalty of $16']],\n",
       " 'arguments/ratio': [['That those two questions were the touchstone of exercise of discretion in matters of this kind was common ground between the parties.',\n",
       "   'I observe that it is well accepted that those criteria are not to be applied rigidly or fixedly'],\n",
       "  ['I was referred by the Sharman applicants to an earlier Full Federal Court decision in Minister for Immigration & Multicultural & Indigenous Affairs v Wong [2002] FCAFC 327 in support of their submission that since the present circumstances give rise to an important question of principle',\n",
       "   \"The parties' respective submissions concerning material matters bearing upon the justification or otherwise for the grant of orders ancillary to the Mareva relief and my incidental observations\"],\n",
       "  [\"'If leave to appeal is not granted then the orders of Moore J will operate and will have to be complied with.\",\n",
       "   'Any subsequent challenge to those orders would then be futile and academic.'],\n",
       "  [\"11 The Music companies contended that the Sharman applicants' submissions proceeded in reality 'on the erroneous basis that every interlocutory decision that requires a party to do an act will be automatically susceptible to leave to appeal and to being stayed'.\",\n",
       "   \"The Music companies' position was that the orders requiring Ms Hemming to file an affidavit disclosing the assets of Sharman Networks\"],\n",
       "  ['The reality of the dilemma in which the Court is placed by the present application is the need for consideration in some depth of the matters to which attention has been drawn by the Sharman applicants',\n",
       "   \"The Sharman applicants relied upon a further passage from the majority's reasons for judgment in Gerlach at [13]\"],\n",
       "  ['This shows that there is presently in train an orderly process for the management of the seized material in which the interests of both parties will receive due consideration.',\n",
       "   '[14] In these circumstances we are far from satisfied that substantial injustice would follow from refusing the application for leave to appeal and'],\n",
       "  ['The anxieties expressed by Scott J in Bayer AG v Winter (No 2) [1986] 1 WLR 540 relating to the court wanting no part of a star chamber process must constantly be borne in mind.',\n",
       "   'The passage from the reasons for judgment of Slade LJ in House of Spring Gardens'],\n",
       "  ['13 The protection of industrial freedom of association and',\n",
       "   '14 The maximum penalty available to the Court is 300 penalty units or $33']],\n",
       " 'ratio/arguments': [[\"The parties' respective submissions concerning material matters bearing upon the justification or otherwise for the grant of orders ancillary to the Mareva relief and my incidental observations\",\n",
       "   '10 The affidavit filed in support of the application for leave to appeal by Mr Rohan Higgins'],\n",
       "  ['That being so we do not propose to comment on the correctness or otherwise of the decision of the primary judge.',\n",
       "   'Nothing we have said should be taken as suggesting that the making of the challenged orders was not a serious matter requiring very careful consideration by the primary judge; plainly'],\n",
       "  [\"The theme of the primary judge's concern was more in the nature of inadequacy and lack of clarity.\",\n",
       "   \"Senior counsel for the Sharman applicants asserted that the Music companies had not demonstrated that Ms Hemming's assets included what he termed 'the beneficial interest in the Sharman companies' or that the 'loan transaction with TIL was a sham'.\"]],\n",
       " 'ratio/facts': [['Orders have also been made granting preliminary access to the material for the purpose of any application that includes material not falling within the challenged orders.',\n",
       "   'The music companies are to have only such access to the seized material as would be normally available on discovery.'],\n",
       "  ['\\'I can very well see that on the particular facts of many cases --- perhaps most cases --- the court might not consider it \"just and convenient\" to order the cross-examination of a defendant who has filed an affidavit in purported compliance with a Mareva order',\n",
       "   \"Whether there has occurred 'purported compliance with a Mareva order' must surely be viewed in terms of substance as well as mere form.\"],\n",
       "  ['2 The following observations made in the previous judgment are relevant to penalty:',\n",
       "   \"• Mr Pillen's refusal to accept the existence of a dispute; [16]\"]],\n",
       " 'facts/ratio': [['14 The Music companies contended that the orders made by Moore J were truly interlocutory in nature',\n",
       "   'They pointed out that Moore J had reached his decision to impose those orders after careful application of the relevant legal principles'],\n",
       "  [\"Whether there has occurred 'purported compliance with a Mareva order' must surely be viewed in terms of substance as well as mere form.\",\n",
       "   'Lord Justice Slade made those remarks in the course of overruling the decision of Scott J at first instance'],\n",
       "  [\"The state of the evidence as to the control of TIL was itself the subject of disputation before Moore J and senior counsel for the Sharman applicants sought to attribute error to his Honour's judgment for the further reason that he had failed to make a finding as to Ms Hemming's control\",\n",
       "   'The Sharman applicants postulated that the \\'remark\\' made by Lindgren J at [13] of his Honour\\'s reasons for judgment in Sharman License Holdings Ltd v Universal Music Australia Pty Ltd [2005] FCA 802 that \\'[Wilcox J] accepted [in the course of granting the Mareva relief on 22 March 2005] that the Sharman Companies were controlled by Ms Hemming by reason of a \"client services agreement\" between her and TIL dated 8 April 2002\\' was an \\'unsure foundation for any finding of control of the Sharman trust or the Sharman companies [by Ms Hemming]\\''],\n",
       "  ['But of course those respective findings related to differing matters and circumstances',\n",
       "   \"27 My reading of his Honour's reasons here was that he was far from satisfied with the nature or extent of the purported offshore structures and transactions to the extent apparent from the evidence\"]],\n",
       " 'decision/arguments': [[\"'It is finally important to recognise that it is only in exceptional circumstances that cross-examination will be ordered on an affidavit sworn pursuant to a Mareva order: see House of Spring Gardens Ltd v Waite [1985] FSR 173 at 181\",\n",
       "   'The anxieties expressed by Scott J in Bayer AG v Winter (No 2) [1986] 1 WLR 540 relating to the court wanting no part of a star chamber process must constantly be borne in mind.'],\n",
       "  [\"I would respectfully withhold from any such somewhat characterisation of the present conduct of the Music companies in their pursuit of what seems to me to be both reasonable and authentic means designed to ensure that Mareva relief is afforded adequate facilitation and implementation in the context of Music companies' intellectual property protection and preservation upheld by the primary judge in the principal litigation.\",\n",
       "   '21 Senior counsel for the Sharman applicants asserted that nowhere in the reasons for judgment of Moore J is there a finding that the disclosures made by Mr Gee of the assets of the relevant two Sharman companies were incomplete'],\n",
       "  ['28 It was submitted nevertheless on behalf of the Sharman applicants that the premise upon which the application for an order for cross-examination order proceeded here was that Ms Hemming had breached the order requiring her to disclose her assets',\n",
       "   \"Those issues were to have been debated before his Honour at length below 'but were never resolved'.\"]],\n",
       " 'arguments/facts': [['He proposes to question him as to his knowledge of and part played in transactions in counterfeit Baygon wherever they may have happened.',\n",
       "   '20 The primary proceedings in Bayer concerned allegations of an organised system for the sale of counterfeit Baygon insecticide products.'],\n",
       "  ['• The \"overbearing and provocative\" manner in which Mr Minniti spoke to Mr Williams; [24]',\n",
       "   '• The different treatment accorded to other employees who had taken strike action but were not disciplined; [29]'],\n",
       "  [\"• That Mr Williams' status as team coordinator did not affect the decision to terminate him; [38]\",\n",
       "   '• The breach of s 298K of the Act was blatant and serious; [51]'],\n",
       "  ['I do not accept the submission that the termination of Mr Williams flowed from a failure to appreciate the scope of s 298L(1)(a).',\n",
       "   'Mr Gillholme and Mr Minniti are both experienced in industrial relations.']],\n",
       " 'facts/decision': [['It was submitted however on behalf of the Sharman applicants that so much did not imply that Moore J was satisfied that there had not been compliance with the order of the court to disclose assets by Ms Hemming',\n",
       "   \"'In the present case I am satisfied Mr Garcia has not adequately complied with the order of the Court. <decision>\"],\n",
       "  [\"• Mr Pillen's refusal to accept the existence of a dispute; [16]\",\n",
       "   \"• The decision to conduct the stop work meeting at the time it was held arose from Mr Pillen's refusal to acknowledge the existence of a dispute; [17]\"]],\n",
       " 'decision/facts': [[\"5 I reject the contention that Mr Minniti's reaction to Mr Williams' putting the telephone down showed that Mr Minniti was merely reacting to provocation rather than acting in deliberate defiance of the Act.\",\n",
       "   'Mr Minniti had the opportunity to put a considered recommendation to Mr Gillholme.']]}"
      ]
     },
     "execution_count": 1,
     "metadata": {},
     "output_type": "execute_result"
    }
   ],
   "source": [
    "import pickle\n",
    "result_dict=pickle.load(open(\"./Second_phase_pickle/Inter_Sent/seed_dataset.pickle\",\"rb\"))\n",
    "result_dict"
   ]
  },
  {
   "cell_type": "code",
   "execution_count": 3,
   "metadata": {},
   "outputs": [],
   "source": [
    "rt=[]\n",
    "for i,j in result_dict.items():\n",
    "    if len(j)>=7:\n",
    "        rt.append([i,j])"
   ]
  },
  {
   "cell_type": "code",
   "execution_count": 4,
   "metadata": {},
   "outputs": [],
   "source": [
    "dcd=[]\n",
    "for i in rt[0][1]:\n",
    "    a=[]\n",
    "    for j in i:\n",
    "        a.append(ins.flex_window_patEx(j,[\"nsubj\",\"dobj\"],6,True))\n",
    "    dcd.append(a)"
   ]
  },
  {
   "cell_type": "code",
   "execution_count": 5,
   "metadata": {},
   "outputs": [
    {
     "data": {
      "text/plain": [
       "[{'nsubj': [['compound',\n",
       "    'nsubj',\n",
       "    'ROOT',\n",
       "    'dobj',\n",
       "    'ccomp',\n",
       "    'compound',\n",
       "    'pobj']],\n",
       "  'dobj': [['compound', 'nsubj', 'ROOT', 'dobj', 'ccomp', 'compound', 'pobj'],\n",
       "   ['compound', 'pobj', 'xcomp', 'advmod', 'dobj', 'conj', 'pobj']]},\n",
       " {'nsubj': [['nummod', 'compound', 'nsubj', 'ROOT', 'dobj', 'amod', 'pobj']],\n",
       "  'dobj': [['compound', 'nsubj', 'ROOT', 'dobj', 'amod', 'pobj', 'pobj']]}]"
      ]
     },
     "execution_count": 5,
     "metadata": {},
     "output_type": "execute_result"
    }
   ],
   "source": [
    "dcd[0]"
   ]
  },
  {
   "cell_type": "code",
   "execution_count": 6,
   "metadata": {},
   "outputs": [
    {
     "data": {
      "text/plain": [
       "[{'nsubj': [['pobj', 'acl', 'pobj', 'nsubj', 'acl', 'dobj', 'pcomp']],\n",
       "  'dobj': [['pobj', 'nsubj', 'acl', 'dobj', 'pcomp', 'compound', 'dobj'],\n",
       "   ['dobj', 'pcomp', 'compound', 'dobj', 'prep', 'amod', 'pobj']]},\n",
       " {'nsubj': [['pobj', 'intj', 'prep', 'nsubj', 'pobj', 'compound', 'compound'],\n",
       "   ['pobj', 'acl', 'compound', 'nsubj', 'ccomp', 'dobj', 'acl']],\n",
       "  'dobj': [['compound', 'nsubj', 'ccomp', 'dobj', 'acl', 'xcomp', 'dobj'],\n",
       "   ['compound', 'nsubj', 'ccomp', 'dobj', 'acl', 'xcomp', 'dobj']]}]"
      ]
     },
     "execution_count": 6,
     "metadata": {},
     "output_type": "execute_result"
    }
   ],
   "source": [
    "dcd[1]"
   ]
  },
  {
   "cell_type": "code",
   "execution_count": 14,
   "metadata": {},
   "outputs": [],
   "source": [
    "#input ref_pat->list\n",
    "#input eval_pat->list\n",
    "#output result->list\n",
    "def inter_jaro(ref_pat,eval_pat):\n",
    "    result=[{\"sent1\":[]},{\"sent2\":[]}]\n",
    "    if {} in ref_pat:\n",
    "        raise ValueError(\"Please check the referrence pattern:\"+str(ref_pat))\n",
    "    for i,j in enumerate(ref_pat):\n",
    "        for ky,vl in j.items():\n",
    "            if ky not in eval_pat[i]:\n",
    "                result[i][\"sent\"+str(i+1)].append([ky,vl[0],0.0])\n",
    "            else:\n",
    "                maxj=0.0\n",
    "                jscl=[]\n",
    "                for m in vl:\n",
    "                    for n in eval_pat[i][ky]:\n",
    "                        jsc=ins.jaro(m,n)\n",
    "                        if maxj<=jsc:\n",
    "                            maxj=jsc\n",
    "                            jscl=[ky,n,jsc]\n",
    "                result[i][\"sent\"+str(i+1)].append(jscl)\n",
    "    return result"
   ]
  },
  {
   "cell_type": "code",
   "execution_count": 15,
   "metadata": {},
   "outputs": [
    {
     "data": {
      "text/plain": [
       "[{'sent1': [['nsubj',\n",
       "    ['compound', 'nsubj', 'ROOT', 'dobj', 'ccomp', 'compound', 'pobj'],\n",
       "    0.0],\n",
       "   ['dobj',\n",
       "    ['compound', 'nsubj', 'ROOT', 'dobj', 'ccomp', 'compound', 'pobj'],\n",
       "    0.0]]},\n",
       " {'sent2': [['nsubj',\n",
       "    ['nummod', 'nummod', 'amod', 'nsubj', 'amod', 'attr', 'pobj'],\n",
       "    0.7142857142857143],\n",
       "   ['dobj',\n",
       "    ['compound', 'nsubj', 'ROOT', 'dobj', 'amod', 'pobj', 'pobj'],\n",
       "    0.0]]}]"
      ]
     },
     "execution_count": 15,
     "metadata": {},
     "output_type": "execute_result"
    }
   ],
   "source": [
    "inter_jaro(dcd[0],dcd[-1])"
   ]
  },
  {
   "cell_type": "code",
   "execution_count": 13,
   "metadata": {},
   "outputs": [
    {
     "data": {
      "text/plain": [
       "[{},\n",
       " {'nsubj': [['nummod', 'nummod', 'amod', 'nsubj', 'amod', 'attr', 'pobj']]}]"
      ]
     },
     "execution_count": 13,
     "metadata": {},
     "output_type": "execute_result"
    }
   ],
   "source": [
    "dcd[-1]"
   ]
  },
  {
   "cell_type": "code",
   "execution_count": 16,
   "metadata": {},
   "outputs": [
    {
     "name": "stdout",
     "output_type": "stream",
     "text": [
      "[{'sent1': [['nsubj', ['compound', 'nsubj', 'ROOT', 'dobj', 'ccomp', 'compound', 'pobj'], 1.0], ['dobj', ['compound', 'pobj', 'xcomp', 'advmod', 'dobj', 'conj', 'pobj'], 1.0]]}, {'sent2': [['nsubj', ['nummod', 'compound', 'nsubj', 'ROOT', 'dobj', 'amod', 'pobj'], 1.0], ['dobj', ['compound', 'nsubj', 'ROOT', 'dobj', 'amod', 'pobj', 'pobj'], 1.0]]}]\n",
      "[{'sent1': [['nsubj', ['pobj', 'acl', 'pobj', 'nsubj', 'acl', 'dobj', 'pcomp'], 0.5238095238095238], ['dobj', ['dobj', 'pcomp', 'compound', 'dobj', 'prep', 'amod', 'pobj'], 0.6190476190476191]]}, {'sent2': [['nsubj', ['pobj', 'acl', 'compound', 'nsubj', 'ccomp', 'dobj', 'acl'], 0.6190476190476191], ['dobj', ['compound', 'nsubj', 'ccomp', 'dobj', 'acl', 'xcomp', 'dobj'], 0.6190476190476191]]}]\n",
      "[{'sent1': [['nsubj', ['ccomp', 'pobj', 'compound', 'nsubj', 'compound', 'conj', 'pcomp'], 0.6190476190476191], ['dobj', ['nsubjpass', 'acl', 'compound', 'dobj', 'ccomp', 'pobj', 'compound'], 0.7428571428571429]]}, {'sent2': [['nsubj', ['ROOT', 'attr', 'compound', 'nsubj', 'compound', 'conj', 'relcl'], 0.5238095238095238], ['dobj', ['compound', 'nsubj', 'ROOT', 'dobj', 'amod', 'pobj', 'pobj'], 0.0]]}]\n",
      "[{'sent1': [['nsubj', ['compound', 'nsubj', 'ROOT', 'dobj', 'ccomp', 'compound', 'pobj'], 0.0], ['dobj', ['compound', 'nsubj', 'ROOT', 'dobj', 'ccomp', 'compound', 'pobj'], 0.0]]}, {'sent2': [['nsubj', ['nummod', 'compound', 'nsubj', 'ROOT', 'dobj', 'amod', 'pobj'], 0.0], ['dobj', ['compound', 'nsubj', 'ROOT', 'dobj', 'amod', 'pobj', 'pobj'], 0.0]]}]\n",
      "[{'sent1': [['nsubj', ['compound', 'nsubj', 'ROOT', 'dobj', 'ccomp', 'compound', 'pobj'], 0.0], ['dobj', ['compound', 'nsubj', 'ROOT', 'dobj', 'ccomp', 'compound', 'pobj'], 0.0]]}, {'sent2': [['nsubj', ['nsubj', 'nsubj', 'ccomp', 'pobj', 'prep', 'nummod', 'pobj'], 0.5238095238095238], ['dobj', ['compound', 'nsubj', 'ROOT', 'dobj', 'amod', 'pobj', 'pobj'], 0.0]]}]\n",
      "[{'sent1': [['nsubj', ['nsubj', 'nsubj', 'ccomp', 'pobj', 'prep', 'nummod', 'pobj'], 0.6190476190476191], ['dobj', ['compound', 'nsubj', 'ROOT', 'dobj', 'ccomp', 'compound', 'pobj'], 0.0]]}, {'sent2': [['nsubj', ['nummod', 'compound', 'nsubj', 'ROOT', 'dobj', 'amod', 'pobj'], 0.0], ['dobj', ['compound', 'nsubj', 'ROOT', 'dobj', 'amod', 'pobj', 'pobj'], 0.0]]}]\n",
      "[{'sent1': [['nsubj', ['compound', 'nsubj', 'ROOT', 'dobj', 'ccomp', 'compound', 'pobj'], 0.0], ['dobj', ['compound', 'nsubj', 'ROOT', 'dobj', 'ccomp', 'compound', 'pobj'], 0.0]]}, {'sent2': [['nsubj', ['nummod', 'nummod', 'amod', 'nsubj', 'amod', 'attr', 'pobj'], 0.7142857142857143], ['dobj', ['compound', 'nsubj', 'ROOT', 'dobj', 'amod', 'pobj', 'pobj'], 0.0]]}]\n"
     ]
    }
   ],
   "source": [
    "for i in dcd:\n",
    "    print(inter_jaro(dcd[0],i))"
   ]
  },
  {
   "cell_type": "code",
   "execution_count": 21,
   "metadata": {},
   "outputs": [],
   "source": [
    "#input pair_sent->list of strings or sentence of len==2\n",
    "#input ref_pat->list\n",
    "#input tags->list\n",
    "#input window_len->int\n",
    "#input stop_words->boolean\n",
    "#output list\n",
    "def inter_pattern_score(pair_sent,ref_pat,tags=[\"nsubj\",\"dobj\"],window_len=6,stop_words=True):\n",
    "    sent_list=[]\n",
    "    for i in pair_sent:\n",
    "        sent_list.append(ins.flex_window_patEx(i,tags,window_len,stop_words))\n",
    "    return inter_jaro(ref_pat,sent_list)"
   ]
  },
  {
   "cell_type": "code",
   "execution_count": 20,
   "metadata": {},
   "outputs": [
    {
     "data": {
      "text/plain": [
       "[{'sent1': [['nsubj',\n",
       "    ['nsubj', 'ccomp', 'nsubjpass', 'pobj', 'advmod', 'ccomp', 'advmod'],\n",
       "    0.5238095238095238],\n",
       "   ['dobj',\n",
       "    ['compound', 'nsubj', 'ROOT', 'dobj', 'ccomp', 'compound', 'pobj'],\n",
       "    0.0]]},\n",
       " {'sent2': [['nsubj',\n",
       "    ['ROOT', 'pobj', 'pobj', 'nsubj', 'pobj', 'nsubjpass', 'ccomp'],\n",
       "    0.5238095238095238],\n",
       "   ['dobj',\n",
       "    ['compound', 'nsubj', 'ROOT', 'dobj', 'amod', 'pobj', 'pobj'],\n",
       "    0.0]]}]"
      ]
     },
     "execution_count": 20,
     "metadata": {},
     "output_type": "execute_result"
    }
   ],
   "source": [
    "inter_pattern_score(st,dcd[0])"
   ]
  }
 ],
 "metadata": {
  "kernelspec": {
   "display_name": "Python 3",
   "language": "python",
   "name": "python3"
  },
  "language_info": {
   "codemirror_mode": {
    "name": "ipython",
    "version": 3
   },
   "file_extension": ".py",
   "mimetype": "text/x-python",
   "name": "python",
   "nbconvert_exporter": "python",
   "pygments_lexer": "ipython3",
   "version": "3.6.8"
  }
 },
 "nbformat": 4,
 "nbformat_minor": 2
}
